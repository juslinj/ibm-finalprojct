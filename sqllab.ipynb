{
 "cells": [
  {
   "cell_type": "code",
   "execution_count": 43,
   "id": "e50db89c-8c2c-4d48-a376-e95d1f3fdc55",
   "metadata": {},
   "outputs": [
    {
     "name": "stdout",
     "output_type": "stream",
     "text": [
      "Collecting sqlalchemy==1.3.9\n",
      "  Using cached SQLAlchemy-1.3.9-cp312-cp312-win_amd64.whl\n",
      "Installing collected packages: sqlalchemy\n",
      "  Attempting uninstall: sqlalchemy\n",
      "    Found existing installation: SQLAlchemy 2.0.34\n",
      "    Uninstalling SQLAlchemy-2.0.34:\n",
      "      Successfully uninstalled SQLAlchemy-2.0.34\n",
      "Successfully installed sqlalchemy-1.3.9\n"
     ]
    },
    {
     "name": "stderr",
     "output_type": "stream",
     "text": [
      "  WARNING: Failed to remove contents in a temporary directory 'C:\\Users\\jusli\\anaconda3\\Lib\\site-packages\\~qlalchemy'.\n",
      "  You can safely remove it manually.\n",
      "ERROR: pip's dependency resolver does not currently take into account all the packages that are installed. This behaviour is the source of the following dependency conflicts.\n",
      "ipython-sql 0.5.0 requires sqlalchemy>=2.0, but you have sqlalchemy 1.3.9 which is incompatible.\n"
     ]
    },
    {
     "name": "stdout",
     "output_type": "stream",
     "text": [
      "Collecting ibm_db_sa\n",
      "  Downloading ibm_db_sa-0.4.1-py3-none-any.whl.metadata (5.3 kB)\n",
      "Requirement already satisfied: sqlalchemy>=0.7.3 in c:\\users\\jusli\\anaconda3\\lib\\site-packages (from ibm_db_sa) (1.3.9)\n",
      "Collecting ibm-db>=2.0.0 (from ibm_db_sa)\n",
      "  Downloading ibm_db-3.2.3-cp312-cp312-win_amd64.whl.metadata (1.4 kB)\n",
      "Downloading ibm_db_sa-0.4.1-py3-none-any.whl (31 kB)\n",
      "Downloading ibm_db-3.2.3-cp312-cp312-win_amd64.whl (27.8 MB)\n",
      "   ---------------------------------------- 0.0/27.8 MB ? eta -:--:--\n",
      "   ---------------------------------------- 0.0/27.8 MB ? eta -:--:--\n",
      "   ---------------------------------------- 0.0/27.8 MB 393.8 kB/s eta 0:01:11\n",
      "   ---------------------------------------- 0.1/27.8 MB 655.4 kB/s eta 0:00:43\n",
      "   ---------------------------------------- 0.2/27.8 MB 1.1 MB/s eta 0:00:26\n",
      "   ---------------------------------------- 0.3/27.8 MB 1.1 MB/s eta 0:00:25\n",
      "    --------------------------------------- 0.4/27.8 MB 1.3 MB/s eta 0:00:21\n",
      "    --------------------------------------- 0.4/27.8 MB 1.3 MB/s eta 0:00:21\n",
      "    --------------------------------------- 0.6/27.8 MB 1.8 MB/s eta 0:00:16\n",
      "   - -------------------------------------- 0.8/27.8 MB 2.1 MB/s eta 0:00:13\n",
      "   - -------------------------------------- 1.3/27.8 MB 2.9 MB/s eta 0:00:10\n",
      "   -- ------------------------------------- 2.0/27.8 MB 4.1 MB/s eta 0:00:07\n",
      "   ---- ----------------------------------- 3.1/27.8 MB 5.7 MB/s eta 0:00:05\n",
      "   ----- ---------------------------------- 3.5/27.8 MB 6.2 MB/s eta 0:00:04\n",
      "   ------ --------------------------------- 4.2/27.8 MB 7.0 MB/s eta 0:00:04\n",
      "   ------- -------------------------------- 5.2/27.8 MB 8.0 MB/s eta 0:00:03\n",
      "   ------- -------------------------------- 5.2/27.8 MB 8.0 MB/s eta 0:00:03\n",
      "   --------- ------------------------------ 6.3/27.8 MB 8.7 MB/s eta 0:00:03\n",
      "   --------- ------------------------------ 6.6/27.8 MB 8.4 MB/s eta 0:00:03\n",
      "   ---------- ----------------------------- 7.3/27.8 MB 9.0 MB/s eta 0:00:03\n",
      "   ---------- ----------------------------- 7.3/27.8 MB 9.0 MB/s eta 0:00:03\n",
      "   ----------- ---------------------------- 8.3/27.8 MB 8.9 MB/s eta 0:00:03\n",
      "   ------------ --------------------------- 8.4/27.8 MB 8.9 MB/s eta 0:00:03\n",
      "   ------------- -------------------------- 9.4/27.8 MB 9.4 MB/s eta 0:00:02\n",
      "   ------------- -------------------------- 9.4/27.8 MB 9.3 MB/s eta 0:00:02\n",
      "   -------------- ------------------------- 10.4/27.8 MB 11.5 MB/s eta 0:00:02\n",
      "   ---------------- ----------------------- 11.1/27.8 MB 13.9 MB/s eta 0:00:02\n",
      "   ---------------- ----------------------- 11.5/27.8 MB 14.6 MB/s eta 0:00:02\n",
      "   ----------------- ---------------------- 12.4/27.8 MB 14.2 MB/s eta 0:00:02\n",
      "   ------------------ --------------------- 12.6/27.8 MB 13.9 MB/s eta 0:00:02\n",
      "   ------------------- -------------------- 13.6/27.8 MB 13.9 MB/s eta 0:00:02\n",
      "   ------------------- -------------------- 13.6/27.8 MB 13.6 MB/s eta 0:00:02\n",
      "   --------------------- ------------------ 14.7/27.8 MB 13.9 MB/s eta 0:00:01\n",
      "   --------------------- ------------------ 14.7/27.8 MB 13.9 MB/s eta 0:00:01\n",
      "   ---------------------- ----------------- 15.7/27.8 MB 13.4 MB/s eta 0:00:01\n",
      "   ------------------------ --------------- 16.8/27.8 MB 13.6 MB/s eta 0:00:01\n",
      "   ------------------------ --------------- 16.8/27.8 MB 12.8 MB/s eta 0:00:01\n",
      "   ------------------------- -------------- 17.8/27.8 MB 14.6 MB/s eta 0:00:01\n",
      "   -------------------------- ------------- 18.5/27.8 MB 13.6 MB/s eta 0:00:01\n",
      "   --------------------------- ------------ 18.9/27.8 MB 14.6 MB/s eta 0:00:01\n",
      "   ---------------------------- ----------- 19.9/27.8 MB 15.2 MB/s eta 0:00:01\n",
      "   ---------------------------- ----------- 19.9/27.8 MB 15.2 MB/s eta 0:00:01\n",
      "   ---------------------------- ----------- 19.9/27.8 MB 15.2 MB/s eta 0:00:01\n",
      "   ---------------------------- ----------- 19.9/27.8 MB 15.2 MB/s eta 0:00:01\n",
      "   ---------------------------- ----------- 19.9/27.8 MB 15.2 MB/s eta 0:00:01\n",
      "   ---------------------------- ----------- 19.9/27.8 MB 15.2 MB/s eta 0:00:01\n",
      "   ------------------------------ --------- 20.9/27.8 MB 11.7 MB/s eta 0:00:01\n",
      "   ------------------------------ --------- 21.2/27.8 MB 11.1 MB/s eta 0:00:01\n",
      "   ------------------------------- -------- 22.0/27.8 MB 11.7 MB/s eta 0:00:01\n",
      "   --------------------------------- ------ 23.0/27.8 MB 11.7 MB/s eta 0:00:01\n",
      "   --------------------------------- ------ 23.1/27.8 MB 11.5 MB/s eta 0:00:01\n",
      "   ---------------------------------- ----- 24.1/27.8 MB 11.7 MB/s eta 0:00:01\n",
      "   ---------------------------------- ----- 24.1/27.8 MB 11.7 MB/s eta 0:00:01\n",
      "   ------------------------------------ --- 25.2/27.8 MB 11.9 MB/s eta 0:00:01\n",
      "   ------------------------------------ --- 25.2/27.8 MB 11.1 MB/s eta 0:00:01\n",
      "   ------------------------------------- -- 26.2/27.8 MB 11.7 MB/s eta 0:00:01\n",
      "   -------------------------------------- - 26.6/27.8 MB 11.1 MB/s eta 0:00:01\n",
      "   ---------------------------------------  27.8/27.8 MB 11.5 MB/s eta 0:00:01\n",
      "   ---------------------------------------  27.8/27.8 MB 11.5 MB/s eta 0:00:01\n",
      "   ---------------------------------------  27.8/27.8 MB 11.5 MB/s eta 0:00:01\n",
      "   ---------------------------------------  27.8/27.8 MB 11.5 MB/s eta 0:00:01\n",
      "   ---------------------------------------- 27.8/27.8 MB 9.6 MB/s eta 0:00:00\n",
      "Installing collected packages: ibm-db, ibm_db_sa\n",
      "Successfully installed ibm-db-3.2.3 ibm_db_sa-0.4.1\n",
      "Requirement already satisfied: ipython-sql in c:\\users\\jusli\\anaconda3\\lib\\site-packages (0.5.0)\n",
      "Requirement already satisfied: prettytable in c:\\users\\jusli\\anaconda3\\lib\\site-packages (from ipython-sql) (3.11.0)\n",
      "Requirement already satisfied: ipython in c:\\users\\jusli\\anaconda3\\lib\\site-packages (from ipython-sql) (8.25.0)\n",
      "Collecting sqlalchemy>=2.0 (from ipython-sql)\n",
      "  Using cached SQLAlchemy-2.0.34-cp312-cp312-win_amd64.whl.metadata (9.9 kB)\n",
      "Requirement already satisfied: sqlparse in c:\\users\\jusli\\anaconda3\\lib\\site-packages (from ipython-sql) (0.5.1)\n",
      "Requirement already satisfied: six in c:\\users\\jusli\\anaconda3\\lib\\site-packages (from ipython-sql) (1.16.0)\n",
      "Requirement already satisfied: ipython-genutils in c:\\users\\jusli\\anaconda3\\lib\\site-packages (from ipython-sql) (0.2.0)\n",
      "Requirement already satisfied: typing-extensions>=4.6.0 in c:\\users\\jusli\\anaconda3\\lib\\site-packages (from sqlalchemy>=2.0->ipython-sql) (4.11.0)\n",
      "Requirement already satisfied: greenlet!=0.4.17 in c:\\users\\jusli\\anaconda3\\lib\\site-packages (from sqlalchemy>=2.0->ipython-sql) (3.0.1)\n",
      "Requirement already satisfied: decorator in c:\\users\\jusli\\anaconda3\\lib\\site-packages (from ipython->ipython-sql) (5.1.1)\n",
      "Requirement already satisfied: jedi>=0.16 in c:\\users\\jusli\\anaconda3\\lib\\site-packages (from ipython->ipython-sql) (0.18.1)\n",
      "Requirement already satisfied: matplotlib-inline in c:\\users\\jusli\\anaconda3\\lib\\site-packages (from ipython->ipython-sql) (0.1.6)\n",
      "Requirement already satisfied: prompt-toolkit<3.1.0,>=3.0.41 in c:\\users\\jusli\\anaconda3\\lib\\site-packages (from ipython->ipython-sql) (3.0.43)\n",
      "Requirement already satisfied: pygments>=2.4.0 in c:\\users\\jusli\\anaconda3\\lib\\site-packages (from ipython->ipython-sql) (2.15.1)\n",
      "Requirement already satisfied: stack-data in c:\\users\\jusli\\anaconda3\\lib\\site-packages (from ipython->ipython-sql) (0.2.0)\n",
      "Requirement already satisfied: traitlets>=5.13.0 in c:\\users\\jusli\\anaconda3\\lib\\site-packages (from ipython->ipython-sql) (5.14.3)\n",
      "Requirement already satisfied: colorama in c:\\users\\jusli\\anaconda3\\lib\\site-packages (from ipython->ipython-sql) (0.4.6)\n",
      "Requirement already satisfied: wcwidth in c:\\users\\jusli\\anaconda3\\lib\\site-packages (from prettytable->ipython-sql) (0.2.5)\n",
      "Requirement already satisfied: parso<0.9.0,>=0.8.0 in c:\\users\\jusli\\anaconda3\\lib\\site-packages (from jedi>=0.16->ipython->ipython-sql) (0.8.3)\n",
      "Requirement already satisfied: executing in c:\\users\\jusli\\anaconda3\\lib\\site-packages (from stack-data->ipython->ipython-sql) (0.8.3)\n",
      "Requirement already satisfied: asttokens in c:\\users\\jusli\\anaconda3\\lib\\site-packages (from stack-data->ipython->ipython-sql) (2.0.5)\n",
      "Requirement already satisfied: pure-eval in c:\\users\\jusli\\anaconda3\\lib\\site-packages (from stack-data->ipython->ipython-sql) (0.2.2)\n",
      "Using cached SQLAlchemy-2.0.34-cp312-cp312-win_amd64.whl (2.1 MB)\n",
      "Installing collected packages: sqlalchemy\n",
      "  Attempting uninstall: sqlalchemy\n",
      "    Found existing installation: SQLAlchemy 1.3.9\n",
      "    Uninstalling SQLAlchemy-1.3.9:\n",
      "      Successfully uninstalled SQLAlchemy-1.3.9\n",
      "Successfully installed sqlalchemy-2.0.34\n"
     ]
    }
   ],
   "source": [
    "!pip install sqlalchemy==1.3.9\n",
    "!pip install ibm_db_sa\n",
    "!pip install ipython-sql"
   ]
  },
  {
   "cell_type": "code",
   "execution_count": 46,
   "id": "b1ca72a1-93fa-448a-bc42-e26805cf094e",
   "metadata": {},
   "outputs": [
    {
     "name": "stdout",
     "output_type": "stream",
     "text": [
      "The sql extension is already loaded. To reload it, use:\n",
      "  %reload_ext sql\n"
     ]
    }
   ],
   "source": [
    "%load_ext sql"
   ]
  },
  {
   "cell_type": "code",
   "execution_count": 48,
   "id": "aa58d665-e4fa-4612-8f34-4acf9d693d35",
   "metadata": {},
   "outputs": [],
   "source": [
    "import csv, sqlite3\n",
    "\n",
    "con = sqlite3.connect(\"my_data1.db\")\n",
    "cur = con.cursor()"
   ]
  },
  {
   "cell_type": "code",
   "execution_count": 54,
   "id": "534b67e6-0b02-4dae-9f57-b56c8301d2b0",
   "metadata": {},
   "outputs": [],
   "source": [
    "%sql sqlite:///my_data1.db"
   ]
  },
  {
   "cell_type": "code",
   "execution_count": 56,
   "id": "c292e82c-f13e-4298-81d3-9551b6839f2f",
   "metadata": {},
   "outputs": [
    {
     "data": {
      "text/plain": [
       "101"
      ]
     },
     "execution_count": 56,
     "metadata": {},
     "output_type": "execute_result"
    }
   ],
   "source": [
    "import pandas as pd\n",
    "df = pd.read_csv(\"https://cf-courses-data.s3.us.cloud-object-storage.appdomain.cloud/IBM-DS0321EN-SkillsNetwork/labs/module_2/data/Spacex.csv\")\n",
    "df.to_sql(\"SPACEXTBL\", con, if_exists='replace', index=False,method=\"multi\")"
   ]
  },
  {
   "cell_type": "code",
   "execution_count": 108,
   "id": "f289491b-1811-470b-a62b-1b2eb596f671",
   "metadata": {},
   "outputs": [
    {
     "name": "stdout",
     "output_type": "stream",
     "text": [
      " * sqlite:///my_data1.db\n",
      "Done.\n"
     ]
    },
    {
     "data": {
      "text/html": [
       "<table>\n",
       "    <thead>\n",
       "        <tr>\n",
       "            <th>Launch_Site</th>\n",
       "        </tr>\n",
       "    </thead>\n",
       "    <tbody>\n",
       "        <tr>\n",
       "            <td>CCAFS LC-40</td>\n",
       "        </tr>\n",
       "        <tr>\n",
       "            <td>VAFB SLC-4E</td>\n",
       "        </tr>\n",
       "        <tr>\n",
       "            <td>KSC LC-39A</td>\n",
       "        </tr>\n",
       "        <tr>\n",
       "            <td>CCAFS SLC-40</td>\n",
       "        </tr>\n",
       "    </tbody>\n",
       "</table>"
      ],
      "text/plain": [
       "[('CCAFS LC-40',), ('VAFB SLC-4E',), ('KSC LC-39A',), ('CCAFS SLC-40',)]"
      ]
     },
     "execution_count": 108,
     "metadata": {},
     "output_type": "execute_result"
    }
   ],
   "source": [
    "%sql select DISTINCT(LAUNCH_SITE) from SPACEXTBL;"
   ]
  },
  {
   "cell_type": "code",
   "execution_count": 78,
   "id": "8178d00d-bdf2-4c8d-b2cc-17a3b148d6ce",
   "metadata": {},
   "outputs": [
    {
     "name": "stdout",
     "output_type": "stream",
     "text": [
      " * sqlite:///my_data1.db\n",
      "Done.\n"
     ]
    },
    {
     "data": {
      "text/html": [
       "<table>\n",
       "    <thead>\n",
       "        <tr>\n",
       "            <th>Launch_Site</th>\n",
       "        </tr>\n",
       "    </thead>\n",
       "    <tbody>\n",
       "        <tr>\n",
       "            <td>CCAFS LC-40</td>\n",
       "        </tr>\n",
       "        <tr>\n",
       "            <td>CCAFS LC-40</td>\n",
       "        </tr>\n",
       "        <tr>\n",
       "            <td>CCAFS LC-40</td>\n",
       "        </tr>\n",
       "        <tr>\n",
       "            <td>CCAFS LC-40</td>\n",
       "        </tr>\n",
       "        <tr>\n",
       "            <td>CCAFS LC-40</td>\n",
       "        </tr>\n",
       "    </tbody>\n",
       "</table>"
      ],
      "text/plain": [
       "[('CCAFS LC-40',),\n",
       " ('CCAFS LC-40',),\n",
       " ('CCAFS LC-40',),\n",
       " ('CCAFS LC-40',),\n",
       " ('CCAFS LC-40',)]"
      ]
     },
     "execution_count": 78,
     "metadata": {},
     "output_type": "execute_result"
    }
   ],
   "source": [
    "%sql SELECT LAUNCH_SITE from SPACEXTBL where (LAUNCH_SITE) LIKE 'CCA%' LIMIT 5;"
   ]
  },
  {
   "cell_type": "code",
   "execution_count": 80,
   "id": "4bffb31d-3565-4639-a5c4-774373a5afc8",
   "metadata": {},
   "outputs": [
    {
     "name": "stdout",
     "output_type": "stream",
     "text": [
      " * sqlite:///my_data1.db\n",
      "Done.\n"
     ]
    },
    {
     "data": {
      "text/html": [
       "<table>\n",
       "    <thead>\n",
       "        <tr>\n",
       "            <th>payloadmass</th>\n",
       "        </tr>\n",
       "    </thead>\n",
       "    <tbody>\n",
       "        <tr>\n",
       "            <td>619967</td>\n",
       "        </tr>\n",
       "    </tbody>\n",
       "</table>"
      ],
      "text/plain": [
       "[(619967,)]"
      ]
     },
     "execution_count": 80,
     "metadata": {},
     "output_type": "execute_result"
    }
   ],
   "source": [
    "%sql select sum(PAYLOAD_MASS__KG_) as payloadmass from SPACEXTBL;"
   ]
  },
  {
   "cell_type": "code",
   "execution_count": 82,
   "id": "35e38589-30ea-4e87-8d2e-25f06e6335df",
   "metadata": {},
   "outputs": [
    {
     "name": "stdout",
     "output_type": "stream",
     "text": [
      " * sqlite:///my_data1.db\n",
      "Done.\n"
     ]
    },
    {
     "data": {
      "text/html": [
       "<table>\n",
       "    <thead>\n",
       "        <tr>\n",
       "            <th>payloadmass</th>\n",
       "        </tr>\n",
       "    </thead>\n",
       "    <tbody>\n",
       "        <tr>\n",
       "            <td>6138.287128712871</td>\n",
       "        </tr>\n",
       "    </tbody>\n",
       "</table>"
      ],
      "text/plain": [
       "[(6138.287128712871,)]"
      ]
     },
     "execution_count": 82,
     "metadata": {},
     "output_type": "execute_result"
    }
   ],
   "source": [
    "%sql select avg(PAYLOAD_MASS__KG_) as payloadmass from SPACEXTBL;"
   ]
  },
  {
   "cell_type": "code",
   "execution_count": 84,
   "id": "431e339d-6291-4b2a-a1dc-62e82c685f9a",
   "metadata": {},
   "outputs": [
    {
     "name": "stdout",
     "output_type": "stream",
     "text": [
      " * sqlite:///my_data1.db\n",
      "Done.\n"
     ]
    },
    {
     "data": {
      "text/html": [
       "<table>\n",
       "    <thead>\n",
       "        <tr>\n",
       "            <th>min(DATE)</th>\n",
       "        </tr>\n",
       "    </thead>\n",
       "    <tbody>\n",
       "        <tr>\n",
       "            <td>2010-06-04</td>\n",
       "        </tr>\n",
       "    </tbody>\n",
       "</table>"
      ],
      "text/plain": [
       "[('2010-06-04',)]"
      ]
     },
     "execution_count": 84,
     "metadata": {},
     "output_type": "execute_result"
    }
   ],
   "source": [
    "%sql select min(DATE) from SPACEXTBL;"
   ]
  },
  {
   "cell_type": "code",
   "execution_count": 102,
   "id": "a3e957d7-98c3-4e66-ab63-e5ed59109840",
   "metadata": {},
   "outputs": [
    {
     "name": "stdout",
     "output_type": "stream",
     "text": [
      " * sqlite:///my_data1.db\n",
      "Done.\n"
     ]
    },
    {
     "data": {
      "text/html": [
       "<table>\n",
       "    <thead>\n",
       "        <tr>\n",
       "            <th>Booster_Version</th>\n",
       "        </tr>\n",
       "    </thead>\n",
       "    <tbody>\n",
       "        <tr>\n",
       "            <td>F9 FT B1022</td>\n",
       "        </tr>\n",
       "        <tr>\n",
       "            <td>F9 FT B1026</td>\n",
       "        </tr>\n",
       "        <tr>\n",
       "            <td>F9 FT  B1021.2</td>\n",
       "        </tr>\n",
       "        <tr>\n",
       "            <td>F9 FT  B1031.2</td>\n",
       "        </tr>\n",
       "    </tbody>\n",
       "</table>"
      ],
      "text/plain": [
       "[('F9 FT B1022',), ('F9 FT B1026',), ('F9 FT  B1021.2',), ('F9 FT  B1031.2',)]"
      ]
     },
     "execution_count": 102,
     "metadata": {},
     "output_type": "execute_result"
    }
   ],
   "source": [
    "%sql select BOOSTER_VERSION from SPACEXTBL where LANDING_OUTCOME='Success (drone ship)' and PAYLOAD_MASS__KG_ BETWEEN 4000 and 6000;"
   ]
  },
  {
   "cell_type": "code",
   "execution_count": 88,
   "id": "2aba2ec6-3be4-44d4-a3a8-bce833e7f528",
   "metadata": {},
   "outputs": [
    {
     "name": "stdout",
     "output_type": "stream",
     "text": [
      " * sqlite:///my_data1.db\n",
      "Done.\n"
     ]
    },
    {
     "data": {
      "text/html": [
       "<table>\n",
       "    <thead>\n",
       "        <tr>\n",
       "            <th>missionoutcomes</th>\n",
       "        </tr>\n",
       "    </thead>\n",
       "    <tbody>\n",
       "        <tr>\n",
       "            <td>1</td>\n",
       "        </tr>\n",
       "        <tr>\n",
       "            <td>98</td>\n",
       "        </tr>\n",
       "        <tr>\n",
       "            <td>1</td>\n",
       "        </tr>\n",
       "        <tr>\n",
       "            <td>1</td>\n",
       "        </tr>\n",
       "    </tbody>\n",
       "</table>"
      ],
      "text/plain": [
       "[(1,), (98,), (1,), (1,)]"
      ]
     },
     "execution_count": 88,
     "metadata": {},
     "output_type": "execute_result"
    }
   ],
   "source": [
    "%sql select count(MISSION_OUTCOME) as missionoutcomes from SPACEXTBL GROUP BY MISSION_OUTCOME;"
   ]
  },
  {
   "cell_type": "code",
   "execution_count": 90,
   "id": "c9fa5b6b-33e7-4f70-b307-828756d52dce",
   "metadata": {},
   "outputs": [
    {
     "name": "stdout",
     "output_type": "stream",
     "text": [
      " * sqlite:///my_data1.db\n",
      "Done.\n"
     ]
    },
    {
     "data": {
      "text/html": [
       "<table>\n",
       "    <thead>\n",
       "        <tr>\n",
       "            <th>boosterversion</th>\n",
       "        </tr>\n",
       "    </thead>\n",
       "    <tbody>\n",
       "        <tr>\n",
       "            <td>F9 B5 B1048.4</td>\n",
       "        </tr>\n",
       "        <tr>\n",
       "            <td>F9 B5 B1049.4</td>\n",
       "        </tr>\n",
       "        <tr>\n",
       "            <td>F9 B5 B1051.3</td>\n",
       "        </tr>\n",
       "        <tr>\n",
       "            <td>F9 B5 B1056.4</td>\n",
       "        </tr>\n",
       "        <tr>\n",
       "            <td>F9 B5 B1048.5</td>\n",
       "        </tr>\n",
       "        <tr>\n",
       "            <td>F9 B5 B1051.4</td>\n",
       "        </tr>\n",
       "        <tr>\n",
       "            <td>F9 B5 B1049.5</td>\n",
       "        </tr>\n",
       "        <tr>\n",
       "            <td>F9 B5 B1060.2 </td>\n",
       "        </tr>\n",
       "        <tr>\n",
       "            <td>F9 B5 B1058.3 </td>\n",
       "        </tr>\n",
       "        <tr>\n",
       "            <td>F9 B5 B1051.6</td>\n",
       "        </tr>\n",
       "        <tr>\n",
       "            <td>F9 B5 B1060.3</td>\n",
       "        </tr>\n",
       "        <tr>\n",
       "            <td>F9 B5 B1049.7 </td>\n",
       "        </tr>\n",
       "    </tbody>\n",
       "</table>"
      ],
      "text/plain": [
       "[('F9 B5 B1048.4',),\n",
       " ('F9 B5 B1049.4',),\n",
       " ('F9 B5 B1051.3',),\n",
       " ('F9 B5 B1056.4',),\n",
       " ('F9 B5 B1048.5',),\n",
       " ('F9 B5 B1051.4',),\n",
       " ('F9 B5 B1049.5',),\n",
       " ('F9 B5 B1060.2 ',),\n",
       " ('F9 B5 B1058.3 ',),\n",
       " ('F9 B5 B1051.6',),\n",
       " ('F9 B5 B1060.3',),\n",
       " ('F9 B5 B1049.7 ',)]"
      ]
     },
     "execution_count": 90,
     "metadata": {},
     "output_type": "execute_result"
    }
   ],
   "source": [
    "%sql select BOOSTER_VERSION as boosterversion from SPACEXTBL where PAYLOAD_MASS__KG_=(select max(PAYLOAD_MASS__KG_) from SPACEXTBL);"
   ]
  },
  {
   "cell_type": "code",
   "execution_count": 100,
   "id": "42905d12-40b0-4c18-8c30-53b200179a17",
   "metadata": {},
   "outputs": [
    {
     "name": "stdout",
     "output_type": "stream",
     "text": [
      " * sqlite:///my_data1.db\n",
      "(sqlite3.OperationalError) near \"FROM\": syntax error\n",
      "[SQL: SELECT MONTH(DATE),MISSION_OUTCOME,BOOSTER_VERSION,LAUNCH_SITE, FROM SPACEXTBL WHERE EXTRACT(YEAR FROM DATE)='2015';]\n",
      "(Background on this error at: https://sqlalche.me/e/20/e3q8)\n"
     ]
    }
   ],
   "source": [
    "%sql SELECT MONTH(DATE),MISSION_OUTCOME,BOOSTER_VERSION,LAUNCH_SITE FROM SPACEXTBL WHERE EXTRACT(YEAR FROM DATE)='2015';"
   ]
  },
  {
   "cell_type": "code",
   "execution_count": 98,
   "id": "71f7e04f-0503-4813-8a06-a5a2472f294b",
   "metadata": {},
   "outputs": [
    {
     "name": "stdout",
     "output_type": "stream",
     "text": [
      " * sqlite:///my_data1.db\n",
      "Done.\n"
     ]
    },
    {
     "data": {
      "text/html": [
       "<table>\n",
       "    <thead>\n",
       "        <tr>\n",
       "            <th>Landing_Outcome</th>\n",
       "        </tr>\n",
       "    </thead>\n",
       "    <tbody>\n",
       "        <tr>\n",
       "            <td>No attempt</td>\n",
       "        </tr>\n",
       "        <tr>\n",
       "            <td>Success (ground pad)</td>\n",
       "        </tr>\n",
       "        <tr>\n",
       "            <td>Success (drone ship)</td>\n",
       "        </tr>\n",
       "        <tr>\n",
       "            <td>Success (drone ship)</td>\n",
       "        </tr>\n",
       "        <tr>\n",
       "            <td>Success (ground pad)</td>\n",
       "        </tr>\n",
       "        <tr>\n",
       "            <td>Failure (drone ship)</td>\n",
       "        </tr>\n",
       "        <tr>\n",
       "            <td>Success (drone ship)</td>\n",
       "        </tr>\n",
       "        <tr>\n",
       "            <td>Success (drone ship)</td>\n",
       "        </tr>\n",
       "        <tr>\n",
       "            <td>Success (drone ship)</td>\n",
       "        </tr>\n",
       "        <tr>\n",
       "            <td>Failure (drone ship)</td>\n",
       "        </tr>\n",
       "        <tr>\n",
       "            <td>Failure (drone ship)</td>\n",
       "        </tr>\n",
       "        <tr>\n",
       "            <td>Success (ground pad)</td>\n",
       "        </tr>\n",
       "        <tr>\n",
       "            <td>Precluded (drone ship)</td>\n",
       "        </tr>\n",
       "        <tr>\n",
       "            <td>No attempt</td>\n",
       "        </tr>\n",
       "        <tr>\n",
       "            <td>Failure (drone ship)</td>\n",
       "        </tr>\n",
       "        <tr>\n",
       "            <td>No attempt</td>\n",
       "        </tr>\n",
       "        <tr>\n",
       "            <td>Controlled (ocean)</td>\n",
       "        </tr>\n",
       "        <tr>\n",
       "            <td>Failure (drone ship)</td>\n",
       "        </tr>\n",
       "        <tr>\n",
       "            <td>Uncontrolled (ocean)</td>\n",
       "        </tr>\n",
       "        <tr>\n",
       "            <td>No attempt</td>\n",
       "        </tr>\n",
       "        <tr>\n",
       "            <td>No attempt</td>\n",
       "        </tr>\n",
       "        <tr>\n",
       "            <td>Controlled (ocean)</td>\n",
       "        </tr>\n",
       "        <tr>\n",
       "            <td>Controlled (ocean)</td>\n",
       "        </tr>\n",
       "        <tr>\n",
       "            <td>No attempt</td>\n",
       "        </tr>\n",
       "        <tr>\n",
       "            <td>No attempt</td>\n",
       "        </tr>\n",
       "        <tr>\n",
       "            <td>Uncontrolled (ocean)</td>\n",
       "        </tr>\n",
       "        <tr>\n",
       "            <td>No attempt</td>\n",
       "        </tr>\n",
       "        <tr>\n",
       "            <td>No attempt</td>\n",
       "        </tr>\n",
       "        <tr>\n",
       "            <td>No attempt</td>\n",
       "        </tr>\n",
       "        <tr>\n",
       "            <td>Failure (parachute)</td>\n",
       "        </tr>\n",
       "        <tr>\n",
       "            <td>Failure (parachute)</td>\n",
       "        </tr>\n",
       "    </tbody>\n",
       "</table>"
      ],
      "text/plain": [
       "[('No attempt',),\n",
       " ('Success (ground pad)',),\n",
       " ('Success (drone ship)',),\n",
       " ('Success (drone ship)',),\n",
       " ('Success (ground pad)',),\n",
       " ('Failure (drone ship)',),\n",
       " ('Success (drone ship)',),\n",
       " ('Success (drone ship)',),\n",
       " ('Success (drone ship)',),\n",
       " ('Failure (drone ship)',),\n",
       " ('Failure (drone ship)',),\n",
       " ('Success (ground pad)',),\n",
       " ('Precluded (drone ship)',),\n",
       " ('No attempt',),\n",
       " ('Failure (drone ship)',),\n",
       " ('No attempt',),\n",
       " ('Controlled (ocean)',),\n",
       " ('Failure (drone ship)',),\n",
       " ('Uncontrolled (ocean)',),\n",
       " ('No attempt',),\n",
       " ('No attempt',),\n",
       " ('Controlled (ocean)',),\n",
       " ('Controlled (ocean)',),\n",
       " ('No attempt',),\n",
       " ('No attempt',),\n",
       " ('Uncontrolled (ocean)',),\n",
       " ('No attempt',),\n",
       " ('No attempt',),\n",
       " ('No attempt',),\n",
       " ('Failure (parachute)',),\n",
       " ('Failure (parachute)',)]"
      ]
     },
     "execution_count": 98,
     "metadata": {},
     "output_type": "execute_result"
    }
   ],
   "source": [
    "%sql SELECT LANDING_OUTCOME FROM SPACEXTBL WHERE DATE BETWEEN '2010-06-04' AND '2017-03-20' ORDER BY DATE DESC;"
   ]
  },
  {
   "cell_type": "code",
   "execution_count": null,
   "id": "8d04e612-ca95-484c-99b8-a4ecc0427eb9",
   "metadata": {},
   "outputs": [],
   "source": []
  }
 ],
 "metadata": {
  "kernelspec": {
   "display_name": "Python 3 (ipykernel)",
   "language": "python",
   "name": "python3"
  },
  "language_info": {
   "codemirror_mode": {
    "name": "ipython",
    "version": 3
   },
   "file_extension": ".py",
   "mimetype": "text/x-python",
   "name": "python",
   "nbconvert_exporter": "python",
   "pygments_lexer": "ipython3",
   "version": "3.12.4"
  }
 },
 "nbformat": 4,
 "nbformat_minor": 5
}
